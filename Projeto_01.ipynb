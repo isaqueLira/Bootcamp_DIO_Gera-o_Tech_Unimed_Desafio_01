{
 "cells": [
  {
   "cell_type": "code",
   "execution_count": 1,
   "id": "83b27358",
   "metadata": {},
   "outputs": [],
   "source": [
    "#Importação de bibliotecas\n",
    "import pandas as pd"
   ]
  },
  {
   "cell_type": "code",
   "execution_count": 7,
   "id": "6a3f9920",
   "metadata": {},
   "outputs": [],
   "source": [
    "#Leitura dos arquivos\n",
    "df1 = pd.read_excel(\"Aracaju.xlsx\")\n",
    "df2 = pd.read_excel(\"Fortaleza.xlsx\")\n",
    "df3 = pd.read_excel(\"Natal.xlsx\")\n",
    "df4 = pd.read_excel(\"Recife.xlsx\")\n",
    "df5 = pd.read_excel(\"Salvador.xlsx\")"
   ]
  },
  {
   "cell_type": "code",
   "execution_count": 8,
   "id": "131767b8",
   "metadata": {},
   "outputs": [],
   "source": [
    "df = pd.concat([df1,df2,df3,df4,df5])"
   ]
  },
  {
   "cell_type": "code",
   "execution_count": 9,
   "id": "5eb03b55",
   "metadata": {},
   "outputs": [
    {
     "data": {
      "text/plain": [
       "Cidade            object\n",
       "Data      datetime64[ns]\n",
       "Vendas           float64\n",
       "LojaID             int64\n",
       "Qtde               int64\n",
       "dtype: object"
      ]
     },
     "execution_count": 9,
     "metadata": {},
     "output_type": "execute_result"
    }
   ],
   "source": [
    "df.dtypes"
   ]
  },
  {
   "cell_type": "code",
   "execution_count": 10,
   "id": "cd6efa2f",
   "metadata": {},
   "outputs": [],
   "source": [
    "#Convertendo o tipo de LojaID de inteiro para string\n",
    "df[\"LojaID\"] = df[\"LojaID\"].astype(\"object\")"
   ]
  },
  {
   "cell_type": "code",
   "execution_count": 11,
   "id": "ae72ec77",
   "metadata": {},
   "outputs": [
    {
     "data": {
      "text/plain": [
       "Cidade            object\n",
       "Data      datetime64[ns]\n",
       "Vendas           float64\n",
       "LojaID            object\n",
       "Qtde               int64\n",
       "dtype: object"
      ]
     },
     "execution_count": 11,
     "metadata": {},
     "output_type": "execute_result"
    }
   ],
   "source": [
    "df.dtypes"
   ]
  },
  {
   "cell_type": "code",
   "execution_count": 12,
   "id": "30934c14",
   "metadata": {},
   "outputs": [
    {
     "data": {
      "text/plain": [
       "Cidade    0\n",
       "Data      0\n",
       "Vendas    0\n",
       "LojaID    0\n",
       "Qtde      0\n",
       "dtype: int64"
      ]
     },
     "execution_count": 12,
     "metadata": {},
     "output_type": "execute_result"
    }
   ],
   "source": [
    "#Verificação de Valores Nulos\n",
    "df.isnull().sum()"
   ]
  },
  {
   "cell_type": "code",
   "execution_count": null,
   "id": "ce7ecc77",
   "metadata": {},
   "outputs": [],
   "source": []
  }
 ],
 "metadata": {
  "kernelspec": {
   "display_name": "Python 3 (ipykernel)",
   "language": "python",
   "name": "python3"
  },
  "language_info": {
   "codemirror_mode": {
    "name": "ipython",
    "version": 3
   },
   "file_extension": ".py",
   "mimetype": "text/x-python",
   "name": "python",
   "nbconvert_exporter": "python",
   "pygments_lexer": "ipython3",
   "version": "3.9.12"
  }
 },
 "nbformat": 4,
 "nbformat_minor": 5
}
